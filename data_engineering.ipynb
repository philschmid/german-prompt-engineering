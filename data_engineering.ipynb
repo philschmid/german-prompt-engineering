{
 "cells": [
  {
   "cell_type": "markdown",
   "metadata": {},
   "source": [
    "## Inspect newly created datasets"
   ]
  },
  {
   "cell_type": "code",
   "execution_count": 16,
   "metadata": {},
   "outputs": [],
   "source": [
    "dataset_id = \"deepset/germanquad\"\n",
    "prompt_dataset = dataset_id.split(\"/\")[-1]"
   ]
  },
  {
   "cell_type": "code",
   "execution_count": 5,
   "metadata": {},
   "outputs": [
    {
     "name": "stderr",
     "output_type": "stream",
     "text": [
      "Reusing dataset german_dpr (/Users/philipp/.cache/huggingface/datasets/deepset___german_dpr/plain_text/1.0.0/c104b2eee2baee81f71e650e48c71a94e6926c31532bc053d1bbefcff0dd7ead)\n",
      "100%|██████████| 2/2 [00:00<00:00, 622.49it/s]\n"
     ]
    }
   ],
   "source": [
    "from datasets import load_dataset\n",
    "dataset = load_dataset(dataset_id)\n",
    "example = dataset[\"train\"][0]"
   ]
  },
  {
   "cell_type": "code",
   "execution_count": 17,
   "metadata": {},
   "outputs": [],
   "source": [
    "\n",
    "# Prompt it\n",
    "from promptsource.templates import DatasetTemplates\n",
    "# Get all the AG News prompts\n",
    "dataset_template = DatasetTemplates(prompt_dataset)\n"
   ]
  },
  {
   "cell_type": "code",
   "execution_count": 18,
   "metadata": {},
   "outputs": [
    {
     "data": {
      "text/plain": [
       "{'dataset_name': 'germanquad',\n",
       " 'subset_name': None,\n",
       " 'templates': {'264f9165-0eed-4855-8825-6508443c64b9': <promptsource.templates.Template at 0x12f0ad370>,\n",
       "  '35a1e619-8515-4fee-aeb0-04f2fb7ec584': <promptsource.templates.Template at 0x12f0ad340>,\n",
       "  '3c9c3a3c-da8c-42aa-a605-3063122c32eb': <promptsource.templates.Template at 0x12f07e700>,\n",
       "  '46908111-143b-4ec2-9326-7959739569d8': <promptsource.templates.Template at 0x12f07ee20>,\n",
       "  '5c908ab4-3f07-4f7a-90c2-b3624a96f3e0': <promptsource.templates.Template at 0x12f0b1220>,\n",
       "  '7f09d6a1-f4b8-4303-bd76-5e570f2178c1': <promptsource.templates.Template at 0x12f0b1250>,\n",
       "  'ad3b868c-5242-4c98-988e-bbe2709ebe6d': <promptsource.templates.Template at 0x12f0b1280>,\n",
       "  'c64ac353-f065-4691-b20c-444fb2bb87bf': <promptsource.templates.Template at 0x12f0b11c0>,\n",
       "  'd74d53b5-a3b9-42ae-8753-9dff3fba1c69': <promptsource.templates.Template at 0x12f0b11f0>,\n",
       "  'e575a717-37a5-40c2-a255-af104f485c31': <promptsource.templates.Template at 0x12f0b1130>,\n",
       "  'f3d502bf-d44e-4edf-a27e-d469ba5afbd4': <promptsource.templates.Template at 0x12f0b1160>,\n",
       "  'ff80522d-1a10-44c5-998a-d3c9840c4ef8': <promptsource.templates.Template at 0x12f0b12b0>},\n",
       " 'name_to_id_mapping': {'find': '264f9165-0eed-4855-8825-6508443c64b9',\n",
       "  'find text': '35a1e619-8515-4fee-aeb0-04f2fb7ec584',\n",
       "  'cbqa': '3c9c3a3c-da8c-42aa-a605-3063122c32eb',\n",
       "  'exam creation help': '46908111-143b-4ec2-9326-7959739569d8',\n",
       "  'exam': '5c908ab4-3f07-4f7a-90c2-b3624a96f3e0',\n",
       "  'count letters': '7f09d6a1-f4b8-4303-bd76-5e570f2178c1',\n",
       "  'cbqa qa': 'ad3b868c-5242-4c98-988e-bbe2709ebe6d',\n",
       "  'question/hint': 'c64ac353-f065-4691-b20c-444fb2bb87bf',\n",
       "  'after': 'd74d53b5-a3b9-42ae-8753-9dff3fba1c69',\n",
       "  'generate question': 'e575a717-37a5-40c2-a255-af104f485c31',\n",
       "  'cbqa question answer': 'f3d502bf-d44e-4edf-a27e-d469ba5afbd4',\n",
       "  'wondered': 'ff80522d-1a10-44c5-998a-d3c9840c4ef8'}}"
      ]
     },
     "execution_count": 18,
     "metadata": {},
     "output_type": "execute_result"
    }
   ],
   "source": [
    "dataset_template.__dict__"
   ]
  },
  {
   "cell_type": "code",
   "execution_count": 20,
   "metadata": {},
   "outputs": [
    {
     "name": "stdout",
     "output_type": "stream",
     "text": [
      "INPUT:  Mit welchem Zeichen beginnt der Text \"britischen Common Laws\" im folgenden Absatz?\n",
      "\n",
      "Recht_der_Vereinigten_Staaten\n",
      "\n",
      "=== Amerikanisches Common Law ===\n",
      "Obwohl die Vereinigten Staaten wie auch viele Staaten des Commonwealth Erben des britischen Common Laws sind, setzt sich das amerikanische Recht bedeutend davon ab. Dies rührt größtenteils von dem langen Zeitraum her, in dem sich das amerikanische Recht unabhängig vom Britischen entwickelt hat. Entsprechend schauen die Gerichte in den Vereinigten Staaten bei der Analyse von eventuell zutreffenden britischen Rechtsprinzipien im Common Law gewöhnlich nur bis ins frühe 19. Jahrhundert.\n",
      "Während es in den Commonwealth-Staaten üblich ist, dass Gerichte sich Entscheidungen und Prinzipien aus anderen Commonwealth-Staaten importieren, ist das in der amerikanischen Rechtsprechung selten. Ausnahmen bestehen hier nur, wenn sich überhaupt keine relevanten amerikanischen Fälle finden lassen, die Fakten nahezu identisch sind und die Begründung außerordentlich überzeugend ist. Frühe amerikanische Entscheidungen zitierten oft britische Fälle, solche Zitate verschwanden aber während des 19. Jahrhunderts, als die Gerichte eindeutig amerikanische Lösungen zu lokalen Konflikten fanden. In der aktuellen Rechtsprechung beziehen sich fast alle Zitate auf amerikanische Fälle.\n",
      "Einige Anhänger des Originalismus und der strikten Gesetzestextauslegung (''strict constructionism''), wie zum Beispiel der verstorbene Bundesrichter am Obersten Gerichtshof, Antonin Scalia, vertreten die Meinung, dass amerikanische Gerichte ''nie'' ausländische Fälle überprüfen sollten, die nach dem Unabhängigkeitskrieg entschieden wurden, unabhängig davon, ob die Argumentation überzeugend ist oder nicht. Die einzige Ausnahme wird hier in Fällen gesehen, die durch die Vereinigten Staaten ratifizierte völkerrechtliche Verträge betreffen. Andere Richter, wie zum Beispiel Anthony Kennedy und Stephen Breyer vertreten eine andere Ansicht und benutzen ausländische Rechtsprechung, sofern ihre Argumentation für sie überzeugend, nützlich oder hilfreich ist.\n",
      "TARGET:  146\n"
     ]
    }
   ],
   "source": [
    "# Select a prompt by name\n",
    "prompt = dataset_template[\"find text\"]\n",
    "# Apply the prompt on the example \n",
    "result = prompt.apply(example)\n",
    "print(\"INPUT: \", result[0])\n",
    "print(\"TARGET: \", result[1])"
   ]
  },
  {
   "cell_type": "markdown",
   "metadata": {},
   "source": [
    "## Creating a dataset from the base dataset with all prompts"
   ]
  },
  {
   "cell_type": "code",
   "execution_count": 62,
   "metadata": {},
   "outputs": [],
   "source": [
    "from datasets import concatenate_datasets, Dataset, Value\n",
    "\n",
    "# merge existing splits into big dataset\n",
    "complete_ds = concatenate_datasets([dataset[\"train\"], dataset[\"test\"]])\n",
    "\n",
    "# create empty dataset for adding prompts\n",
    "prompted_ds = Dataset.from_dict({\"inputs\": [], \"targets\": []})\n",
    "prompted_ds.features[\"inputs\"] = Value(\"string\")\n",
    "prompted_ds.features[\"targets\"] = Value(\"string\")"
   ]
  },
  {
   "cell_type": "code",
   "execution_count": 63,
   "metadata": {},
   "outputs": [
    {
     "name": "stdout",
     "output_type": "stream",
     "text": [
      "dataset size before adding new samples: 0\n"
     ]
    },
    {
     "name": "stderr",
     "output_type": "stream",
     "text": [
      "100%|██████████| 13722/13722 [00:10<00:00, 1273.00ex/s]\n"
     ]
    },
    {
     "name": "stdout",
     "output_type": "stream",
     "text": [
      "dataset size after adding new samples: 13722\n",
      "latest dataset sample: {'inputs': 'Ich weiß, dass die Antwort auf \"Was sind die Hauptprobleme Indiens?\" irgendwo im folgenden Textausschnitt. Können Sie mir sagen, an welchem Zeichen die Antwort beginnt?\\n\\nGeschichte_Indiens\\nDie älteste bekannte Zivilisation auf dem indischen Subkontinent und eine der ältesten Hochkulturen der Welt, ist die Indus-Kultur. Ihre Geschichte reicht mindestens 5000 Jahre zurück. Seit etwa 1500 v. Chr. sollen arische Stämme von Norden eingewandert sein und die vedische Kultur hervorgebracht haben.\\nAb dem 6. Jahrhundert v. Chr. entfaltete sich der Buddhismus, der mehr als 1000 Jahre neben dem Hinduismus eine der maßgeblichen Geistesströmungen Indiens war. Im 4. Jahrhundert v. Chr. entstand das Maurya-Reich, das zum ersten Großreich Indiens aufstieg und seine größte Ausdehnung unter Kaiser Ashoka erlangte. Im 3. Jahrhundert v. Chr. blühten die Prakrit-Literatur und die tamilische Sangam-Literatur im südlichen Indien auf. Im 4. Jahrhundert n. Chr. entstand im Norden Indiens ein Großreich unter der Herrschaft der Guptas sowie im Süden das tamilische Chola-Reich.\\nArabische Eroberungszüge im 8.\\xa0Jahrhundert brachten den Islam nach Nordwestindien. Als die Araber versuchten, nach Gujarat und darüber hinaus vorzudringen, wurden sie vom indischen König Vikramaditya II der westlichen Chalukya-Dynastie besiegt. Vom 8. Jahrhundert bis zum 10. Jahrhundert herrschten die drei Dynastien Rashtrakuta, Pala und Pratihara über einen großen Teil Indiens und kämpften untereinander um die Vorherrschaft in Nordindien. Im Süden Indiens herrschten die Chola-Dynastie und die Chalukya-Dynastie vom 10. Jahrhundert bis zum 12. Jahrhundert. Der Süden Indiens wurde durch das hinduistische Vijayanagar-Reich vom 14. bis 16. Jahrhundert beherrscht. Während der Moguldynastie spielten die Einflüsse der persischen Kultur eine große Rolle. Im späten 17. Jahrhundert wurde das hinduistische Maratha-Reich gegründet, das im 18. Jahrhundert das Mogulreich überrannte und einen großen Teil Nordindiens eroberte. Im 19. Jahrhundert hatte Großbritannien die vollständige politische Kontrolle über alle indischen Territorien.\\nDer Widerstand gegen die britische Kolonialherrschaft, vor allem unter Mahatma Gandhi und Jawaharlal Nehru,...', 'targets': '2414'}\n",
      "dataset size before adding new samples: 13722\n"
     ]
    },
    {
     "name": "stderr",
     "output_type": "stream",
     "text": [
      "100%|██████████| 13722/13722 [00:11<00:00, 1143.67ex/s]\n"
     ]
    },
    {
     "name": "stdout",
     "output_type": "stream",
     "text": [
      "dataset size after adding new samples: 27444\n",
      "latest dataset sample: {'inputs': 'Mit welchem Zeichen beginnt der Text \"der fortdauernde Streit mit Pakistan um die Region Kaschmir, andererseits die starke Überbevölkerung, die zunehmende Umweltverschmutzung, die ausgedehnte Armut sowie ethnische und religiöse Konflikte zwischen Hindus und Muslimen.\" im folgenden Absatz?\\n\\nGeschichte_Indiens\\nDie älteste bekannte Zivilisation auf dem indischen Subkontinent und eine der ältesten Hochkulturen der Welt, ist die Indus-Kultur. Ihre Geschichte reicht mindestens 5000 Jahre zurück. Seit etwa 1500 v. Chr. sollen arische Stämme von Norden eingewandert sein und die vedische Kultur hervorgebracht haben.\\nAb dem 6. Jahrhundert v. Chr. entfaltete sich der Buddhismus, der mehr als 1000 Jahre neben dem Hinduismus eine der maßgeblichen Geistesströmungen Indiens war. Im 4. Jahrhundert v. Chr. entstand das Maurya-Reich, das zum ersten Großreich Indiens aufstieg und seine größte Ausdehnung unter Kaiser Ashoka erlangte. Im 3. Jahrhundert v. Chr. blühten die Prakrit-Literatur und die tamilische Sangam-Literatur im südlichen Indien auf. Im 4. Jahrhundert n. Chr. entstand im Norden Indiens ein Großreich unter der Herrschaft der Guptas sowie im Süden das tamilische Chola-Reich.\\nArabische Eroberungszüge im 8.\\xa0Jahrhundert brachten den Islam nach Nordwestindien. Als die Araber versuchten, nach Gujarat und darüber hinaus vorzudringen, wurden sie vom indischen König Vikramaditya II der westlichen Chalukya-Dynastie besiegt. Vom 8. Jahrhundert bis zum 10. Jahrhundert herrschten die drei Dynastien Rashtrakuta, Pala und Pratihara über einen großen Teil Indiens und kämpften untereinander um die Vorherrschaft in Nordindien. Im Süden Indiens herrschten die Chola-Dynastie und die Chalukya-Dynastie vom 10. Jahrhundert bis zum 12. Jahrhundert. Der Süden Indiens wurde durch das hinduistische Vijayanagar-Reich vom 14. bis 16. Jahrhundert beherrscht. Während der Moguldynastie spielten die Einflüsse der persischen Kultur eine große Rolle. Im späten 17. Jahrhundert wurde das hinduistische Maratha-Reich gegründet, das im 18. Jahrhundert das Mogulreich überrannte und einen großen Teil Nordindiens eroberte. Im 19. Jahrhundert hatte Großbritannien die vollständige politische Kontrolle über alle indischen Territorien.\\nDer Widerstand gegen die britische Kolonialherrschaft, vor allem unter Mahatma Gandhi und Jawaharlal Nehru,...', 'targets': '2414'}\n",
      "dataset size before adding new samples: 27444\n"
     ]
    },
    {
     "name": "stderr",
     "output_type": "stream",
     "text": [
      "100%|██████████| 13722/13722 [00:08<00:00, 1653.53ex/s]\n"
     ]
    },
    {
     "name": "stdout",
     "output_type": "stream",
     "text": [
      "dataset size after adding new samples: 41166\n",
      "latest dataset sample: {'inputs': 'Was sind die Hauptprobleme Indiens?', 'targets': 'der fortdauernde Streit mit Pakistan um die Region Kaschmir, andererseits die starke Überbevölkerung, die zunehmende Umweltverschmutzung, die ausgedehnte Armut sowie ethnische und religiöse Konflikte zwischen Hindus und Muslimen.'}\n",
      "dataset size before adding new samples: 41166\n"
     ]
    },
    {
     "name": "stderr",
     "output_type": "stream",
     "text": [
      "100%|██████████| 13722/13722 [00:06<00:00, 2026.13ex/s]\n"
     ]
    },
    {
     "name": "stdout",
     "output_type": "stream",
     "text": [
      "dataset size after adding new samples: 54888\n",
      "latest dataset sample: {'inputs': 'Ich erstelle eine Abschlussprüfung für meinen Lesekurs. Können Sie mir bitte eine eine gute Frage vorschlagen, um abzufragen, wie gut die Schüler den folgenden Textausschnitt gelesen haben? gelesen haben?\\n\\nGeschichte_Indiens\\nDie älteste bekannte Zivilisation auf dem indischen Subkontinent und eine der ältesten Hochkulturen der Welt, ist die Indus-Kultur. Ihre Geschichte reicht mindestens 5000 Jahre zurück. Seit etwa 1500 v. Chr. sollen arische Stämme von Norden eingewandert sein und die vedische Kultur hervorgebracht haben.\\nAb dem 6. Jahrhundert v. Chr. entfaltete sich der Buddhismus, der mehr als 1000 Jahre neben dem Hinduismus eine der maßgeblichen Geistesströmungen Indiens war. Im 4. Jahrhundert v. Chr. entstand das Maurya-Reich, das zum ersten Großreich Indiens aufstieg und seine größte Ausdehnung unter Kaiser Ashoka erlangte. Im 3. Jahrhundert v. Chr. blühten die Prakrit-Literatur und die tamilische Sangam-Literatur im südlichen Indien auf. Im 4. Jahrhundert n. Chr. entstand im Norden Indiens ein Großreich unter der Herrschaft der Guptas sowie im Süden das tamilische Chola-Reich.\\nArabische Eroberungszüge im 8.\\xa0Jahrhundert brachten den Islam nach Nordwestindien. Als die Araber versuchten, nach Gujarat und darüber hinaus vorzudringen, wurden sie vom indischen König Vikramaditya II der westlichen Chalukya-Dynastie besiegt. Vom 8. Jahrhundert bis zum 10. Jahrhundert herrschten die drei Dynastien Rashtrakuta, Pala und Pratihara über einen großen Teil Indiens und kämpften untereinander um die Vorherrschaft in Nordindien. Im Süden Indiens herrschten die Chola-Dynastie und die Chalukya-Dynastie vom 10. Jahrhundert bis zum 12. Jahrhundert. Der Süden Indiens wurde durch das hinduistische Vijayanagar-Reich vom 14. bis 16. Jahrhundert beherrscht. Während der Moguldynastie spielten die Einflüsse der persischen Kultur eine große Rolle. Im späten 17. Jahrhundert wurde das hinduistische Maratha-Reich gegründet, das im 18. Jahrhundert das Mogulreich überrannte und einen großen Teil Nordindiens eroberte. Im 19. Jahrhundert hatte Großbritannien die vollständige politische Kontrolle über alle indischen Territorien.\\nDer Widerstand gegen die britische Kolonialherrschaft, vor allem unter Mahatma Gandhi und Jawaharlal Nehru,...', 'targets': 'Was sind die Hauptprobleme Indiens?'}\n",
      "dataset size before adding new samples: 54888\n"
     ]
    },
    {
     "name": "stderr",
     "output_type": "stream",
     "text": [
      "100%|██████████| 13722/13722 [00:10<00:00, 1258.33ex/s]\n"
     ]
    },
    {
     "name": "stdout",
     "output_type": "stream",
     "text": [
      "dataset size after adding new samples: 68610\n",
      "latest dataset sample: {'inputs': 'Ich arbeite an der Abschlussprüfung für meinen Kurs und versuche herauszufinden die Antwort auf die Frage \"Was sind die Hauptprobleme Indiens?\" herauszufinden. Ich habe die folgenden Informationen auf Wikipedia gefunden und ich glaube, sie enthält die Antwort. Können Sie mir die Antwort sagen?\\n\\nGeschichte_Indiens\\nDie älteste bekannte Zivilisation auf dem indischen Subkontinent und eine der ältesten Hochkulturen der Welt, ist die Indus-Kultur. Ihre Geschichte reicht mindestens 5000 Jahre zurück. Seit etwa 1500 v. Chr. sollen arische Stämme von Norden eingewandert sein und die vedische Kultur hervorgebracht haben.\\nAb dem 6. Jahrhundert v. Chr. entfaltete sich der Buddhismus, der mehr als 1000 Jahre neben dem Hinduismus eine der maßgeblichen Geistesströmungen Indiens war. Im 4. Jahrhundert v. Chr. entstand das Maurya-Reich, das zum ersten Großreich Indiens aufstieg und seine größte Ausdehnung unter Kaiser Ashoka erlangte. Im 3. Jahrhundert v. Chr. blühten die Prakrit-Literatur und die tamilische Sangam-Literatur im südlichen Indien auf. Im 4. Jahrhundert n. Chr. entstand im Norden Indiens ein Großreich unter der Herrschaft der Guptas sowie im Süden das tamilische Chola-Reich.\\nArabische Eroberungszüge im 8.\\xa0Jahrhundert brachten den Islam nach Nordwestindien. Als die Araber versuchten, nach Gujarat und darüber hinaus vorzudringen, wurden sie vom indischen König Vikramaditya II der westlichen Chalukya-Dynastie besiegt. Vom 8. Jahrhundert bis zum 10. Jahrhundert herrschten die drei Dynastien Rashtrakuta, Pala und Pratihara über einen großen Teil Indiens und kämpften untereinander um die Vorherrschaft in Nordindien. Im Süden Indiens herrschten die Chola-Dynastie und die Chalukya-Dynastie vom 10. Jahrhundert bis zum 12. Jahrhundert. Der Süden Indiens wurde durch das hinduistische Vijayanagar-Reich vom 14. bis 16. Jahrhundert beherrscht. Während der Moguldynastie spielten die Einflüsse der persischen Kultur eine große Rolle. Im späten 17. Jahrhundert wurde das hinduistische Maratha-Reich gegründet, das im 18. Jahrhundert das Mogulreich überrannte und einen großen Teil Nordindiens eroberte. Im 19. Jahrhundert hatte Großbritannien die vollständige politische Kontrolle über alle indischen Territorien.\\nDer Widerstand gegen die britische Kolonialherrschaft, vor allem unter Mahatma Gandhi und Jawaharlal Nehru,...', 'targets': 'der fortdauernde Streit mit Pakistan um die Region Kaschmir, andererseits die starke Überbevölkerung, die zunehmende Umweltverschmutzung, die ausgedehnte Armut sowie ethnische und religiöse Konflikte zwischen Hindus und Muslimen.'}\n",
      "dataset size before adding new samples: 68610\n"
     ]
    },
    {
     "name": "stderr",
     "output_type": "stream",
     "text": [
      "100%|██████████| 13722/13722 [00:11<00:00, 1145.33ex/s]\n"
     ]
    },
    {
     "name": "stdout",
     "output_type": "stream",
     "text": [
      "dataset size after adding new samples: 82332\n",
      "latest dataset sample: {'inputs': 'Zählen Sie die Zeichen, bis \"der fortdauernde Streit mit Pakistan um die Region Kaschmir, andererseits die starke Überbevölkerung, die zunehmende Umweltverschmutzung, die ausgedehnte Armut sowie ethnische und religiöse Konflikte zwischen Hindus und Muslimen.\" im folgenden Textabschnitt erscheint folgenden Textstück erscheint.\\n\\nGeschichte_Indiens\\nDie älteste bekannte Zivilisation auf dem indischen Subkontinent und eine der ältesten Hochkulturen der Welt, ist die Indus-Kultur. Ihre Geschichte reicht mindestens 5000 Jahre zurück. Seit etwa 1500 v. Chr. sollen arische Stämme von Norden eingewandert sein und die vedische Kultur hervorgebracht haben.\\nAb dem 6. Jahrhundert v. Chr. entfaltete sich der Buddhismus, der mehr als 1000 Jahre neben dem Hinduismus eine der maßgeblichen Geistesströmungen Indiens war. Im 4. Jahrhundert v. Chr. entstand das Maurya-Reich, das zum ersten Großreich Indiens aufstieg und seine größte Ausdehnung unter Kaiser Ashoka erlangte. Im 3. Jahrhundert v. Chr. blühten die Prakrit-Literatur und die tamilische Sangam-Literatur im südlichen Indien auf. Im 4. Jahrhundert n. Chr. entstand im Norden Indiens ein Großreich unter der Herrschaft der Guptas sowie im Süden das tamilische Chola-Reich.\\nArabische Eroberungszüge im 8.\\xa0Jahrhundert brachten den Islam nach Nordwestindien. Als die Araber versuchten, nach Gujarat und darüber hinaus vorzudringen, wurden sie vom indischen König Vikramaditya II der westlichen Chalukya-Dynastie besiegt. Vom 8. Jahrhundert bis zum 10. Jahrhundert herrschten die drei Dynastien Rashtrakuta, Pala und Pratihara über einen großen Teil Indiens und kämpften untereinander um die Vorherrschaft in Nordindien. Im Süden Indiens herrschten die Chola-Dynastie und die Chalukya-Dynastie vom 10. Jahrhundert bis zum 12. Jahrhundert. Der Süden Indiens wurde durch das hinduistische Vijayanagar-Reich vom 14. bis 16. Jahrhundert beherrscht. Während der Moguldynastie spielten die Einflüsse der persischen Kultur eine große Rolle. Im späten 17. Jahrhundert wurde das hinduistische Maratha-Reich gegründet, das im 18. Jahrhundert das Mogulreich überrannte und einen großen Teil Nordindiens eroberte. Im 19. Jahrhundert hatte Großbritannien die vollständige politische Kontrolle über alle indischen Territorien.\\nDer Widerstand gegen die britische Kolonialherrschaft, vor allem unter Mahatma Gandhi und Jawaharlal Nehru,...', 'targets': '2414'}\n",
      "dataset size before adding new samples: 82332\n"
     ]
    },
    {
     "name": "stderr",
     "output_type": "stream",
     "text": [
      "100%|██████████| 13722/13722 [00:08<00:00, 1651.78ex/s]\n"
     ]
    },
    {
     "name": "stdout",
     "output_type": "stream",
     "text": [
      "dataset size after adding new samples: 96054\n",
      "latest dataset sample: {'inputs': 'Q: Was sind die Hauptprobleme Indiens?\\n\\nA:', 'targets': 'der fortdauernde Streit mit Pakistan um die Region Kaschmir, andererseits die starke Überbevölkerung, die zunehmende Umweltverschmutzung, die ausgedehnte Armut sowie ethnische und religiöse Konflikte zwischen Hindus und Muslimen.'}\n",
      "dataset size before adding new samples: 96054\n"
     ]
    },
    {
     "name": "stderr",
     "output_type": "stream",
     "text": [
      "100%|██████████| 13722/13722 [00:16<00:00, 837.42ex/s]\n"
     ]
    },
    {
     "name": "stdout",
     "output_type": "stream",
     "text": [
      "dataset size after adding new samples: 109776\n",
      "latest dataset sample: {'inputs': 'Frage 6: Was sind die Hauptprobleme Indiens?\\n\\nTipp: Geschichte_Indiens\\nDie älteste bekannte Zivilisation auf dem indischen Subkontinent und eine der ältesten Hochkulturen der Welt, ist die Indus-Kultur. Ihre Geschichte reicht mindestens 5000 Jahre zurück. Seit etwa 1500 v. Chr. sollen arische Stämme von Norden eingewandert sein und die vedische Kultur hervorgebracht haben.\\nAb dem 6. Jahrhundert v. Chr. entfaltete sich der Buddhismus, der mehr als 1000 Jahre neben dem Hinduismus eine der maßgeblichen Geistesströmungen Indiens war. Im 4. Jahrhundert v. Chr. entstand das Maurya-Reich, das zum ersten Großreich Indiens aufstieg und seine größte Ausdehnung unter Kaiser Ashoka erlangte. Im 3. Jahrhundert v. Chr. blühten die Prakrit-Literatur und die tamilische Sangam-Literatur im südlichen Indien auf. Im 4. Jahrhundert n. Chr. entstand im Norden Indiens ein Großreich unter der Herrschaft der Guptas sowie im Süden das tamilische Chola-Reich.\\nArabische Eroberungszüge im 8.\\xa0Jahrhundert brachten den Islam nach Nordwestindien. Als die Araber versuchten, nach Gujarat und darüber hinaus vorzudringen, wurden sie vom indischen König Vikramaditya II der westlichen Chalukya-Dynastie besiegt. Vom 8. Jahrhundert bis zum 10. Jahrhundert herrschten die drei Dynastien Rashtrakuta, Pala und Pratihara über einen großen Teil Indiens und kämpften untereinander um die Vorherrschaft in Nordindien. Im Süden Indiens herrschten die Chola-Dynastie und die Chalukya-Dynastie vom 10. Jahrhundert bis zum 12. Jahrhundert. Der Süden Indiens wurde durch das hinduistische Vijayanagar-Reich vom 14. bis 16. Jahrhundert beherrscht. Während der Moguldynastie spielten die Einflüsse der persischen Kultur eine große Rolle. Im späten 17. Jahrhundert wurde das hinduistische Maratha-Reich gegründet, das im 18. Jahrhundert das Mogulreich überrannte und einen großen Teil Nordindiens eroberte. Im 19. Jahrhundert hatte Großbritannien die vollständige politische Kontrolle über alle indischen Territorien.\\nDer Widerstand gegen die britische Kolonialherrschaft, vor allem unter Mahatma Gandhi und Jawaharlal Nehru,...', 'targets': 'der fortdauernde Streit mit Pakistan um die Region Kaschmir, andererseits die starke Überbevölkerung, die zunehmende Umweltverschmutzung, die ausgedehnte Armut sowie ethnische und religiöse Konflikte zwischen Hindus und Muslimen.'}\n",
      "dataset size before adding new samples: 109776\n"
     ]
    },
    {
     "name": "stderr",
     "output_type": "stream",
     "text": [
      "100%|██████████| 13722/13722 [00:10<00:00, 1322.52ex/s]\n"
     ]
    },
    {
     "name": "stdout",
     "output_type": "stream",
     "text": [
      "dataset size after adding new samples: 123498\n",
      "latest dataset sample: {'inputs': 'Beantworten Sie nach dem Lesen des folgenden Absatzes bitte diese Frage: Was sind die Hauptprobleme Indiens?\\n\\nGeschichte_Indiens\\nDie älteste bekannte Zivilisation auf dem indischen Subkontinent und eine der ältesten Hochkulturen der Welt, ist die Indus-Kultur. Ihre Geschichte reicht mindestens 5000 Jahre zurück. Seit etwa 1500 v. Chr. sollen arische Stämme von Norden eingewandert sein und die vedische Kultur hervorgebracht haben.\\nAb dem 6. Jahrhundert v. Chr. entfaltete sich der Buddhismus, der mehr als 1000 Jahre neben dem Hinduismus eine der maßgeblichen Geistesströmungen Indiens war. Im 4. Jahrhundert v. Chr. entstand das Maurya-Reich, das zum ersten Großreich Indiens aufstieg und seine größte Ausdehnung unter Kaiser Ashoka erlangte. Im 3. Jahrhundert v. Chr. blühten die Prakrit-Literatur und die tamilische Sangam-Literatur im südlichen Indien auf. Im 4. Jahrhundert n. Chr. entstand im Norden Indiens ein Großreich unter der Herrschaft der Guptas sowie im Süden das tamilische Chola-Reich.\\nArabische Eroberungszüge im 8.\\xa0Jahrhundert brachten den Islam nach Nordwestindien. Als die Araber versuchten, nach Gujarat und darüber hinaus vorzudringen, wurden sie vom indischen König Vikramaditya II der westlichen Chalukya-Dynastie besiegt. Vom 8. Jahrhundert bis zum 10. Jahrhundert herrschten die drei Dynastien Rashtrakuta, Pala und Pratihara über einen großen Teil Indiens und kämpften untereinander um die Vorherrschaft in Nordindien. Im Süden Indiens herrschten die Chola-Dynastie und die Chalukya-Dynastie vom 10. Jahrhundert bis zum 12. Jahrhundert. Der Süden Indiens wurde durch das hinduistische Vijayanagar-Reich vom 14. bis 16. Jahrhundert beherrscht. Während der Moguldynastie spielten die Einflüsse der persischen Kultur eine große Rolle. Im späten 17. Jahrhundert wurde das hinduistische Maratha-Reich gegründet, das im 18. Jahrhundert das Mogulreich überrannte und einen großen Teil Nordindiens eroberte. Im 19. Jahrhundert hatte Großbritannien die vollständige politische Kontrolle über alle indischen Territorien.\\nDer Widerstand gegen die britische Kolonialherrschaft, vor allem unter Mahatma Gandhi und Jawaharlal Nehru,...', 'targets': 'der fortdauernde Streit mit Pakistan um die Region Kaschmir, andererseits die starke Überbevölkerung, die zunehmende Umweltverschmutzung, die ausgedehnte Armut sowie ethnische und religiöse Konflikte zwischen Hindus und Muslimen.'}\n",
      "dataset size before adding new samples: 123498\n"
     ]
    },
    {
     "name": "stderr",
     "output_type": "stream",
     "text": [
      "100%|██████████| 13722/13722 [00:06<00:00, 2011.04ex/s]\n"
     ]
    },
    {
     "name": "stdout",
     "output_type": "stream",
     "text": [
      "dataset size after adding new samples: 137220\n",
      "latest dataset sample: {'inputs': 'Bitte denken Sie sich eine gute Frage aus, um das Leseverständnis des folgenden Absatz zu testen:\\n\\nGeschichte_Indiens\\nDie älteste bekannte Zivilisation auf dem indischen Subkontinent und eine der ältesten Hochkulturen der Welt, ist die Indus-Kultur. Ihre Geschichte reicht mindestens 5000 Jahre zurück. Seit etwa 1500 v. Chr. sollen arische Stämme von Norden eingewandert sein und die vedische Kultur hervorgebracht haben.\\nAb dem 6. Jahrhundert v. Chr. entfaltete sich der Buddhismus, der mehr als 1000 Jahre neben dem Hinduismus eine der maßgeblichen Geistesströmungen Indiens war. Im 4. Jahrhundert v. Chr. entstand das Maurya-Reich, das zum ersten Großreich Indiens aufstieg und seine größte Ausdehnung unter Kaiser Ashoka erlangte. Im 3. Jahrhundert v. Chr. blühten die Prakrit-Literatur und die tamilische Sangam-Literatur im südlichen Indien auf. Im 4. Jahrhundert n. Chr. entstand im Norden Indiens ein Großreich unter der Herrschaft der Guptas sowie im Süden das tamilische Chola-Reich.\\nArabische Eroberungszüge im 8.\\xa0Jahrhundert brachten den Islam nach Nordwestindien. Als die Araber versuchten, nach Gujarat und darüber hinaus vorzudringen, wurden sie vom indischen König Vikramaditya II der westlichen Chalukya-Dynastie besiegt. Vom 8. Jahrhundert bis zum 10. Jahrhundert herrschten die drei Dynastien Rashtrakuta, Pala und Pratihara über einen großen Teil Indiens und kämpften untereinander um die Vorherrschaft in Nordindien. Im Süden Indiens herrschten die Chola-Dynastie und die Chalukya-Dynastie vom 10. Jahrhundert bis zum 12. Jahrhundert. Der Süden Indiens wurde durch das hinduistische Vijayanagar-Reich vom 14. bis 16. Jahrhundert beherrscht. Während der Moguldynastie spielten die Einflüsse der persischen Kultur eine große Rolle. Im späten 17. Jahrhundert wurde das hinduistische Maratha-Reich gegründet, das im 18. Jahrhundert das Mogulreich überrannte und einen großen Teil Nordindiens eroberte. Im 19. Jahrhundert hatte Großbritannien die vollständige politische Kontrolle über alle indischen Territorien.\\nDer Widerstand gegen die britische Kolonialherrschaft, vor allem unter Mahatma Gandhi und Jawaharlal Nehru,...', 'targets': 'Was sind die Hauptprobleme Indiens?'}\n",
      "dataset size before adding new samples: 137220\n"
     ]
    },
    {
     "name": "stderr",
     "output_type": "stream",
     "text": [
      "100%|██████████| 13722/13722 [00:08<00:00, 1623.58ex/s]\n"
     ]
    },
    {
     "name": "stdout",
     "output_type": "stream",
     "text": [
      "dataset size after adding new samples: 150942\n",
      "latest dataset sample: {'inputs': 'Question: Was sind die Hauptprobleme Indiens?\\n\\nAnswer:', 'targets': 'der fortdauernde Streit mit Pakistan um die Region Kaschmir, andererseits die starke Überbevölkerung, die zunehmende Umweltverschmutzung, die ausgedehnte Armut sowie ethnische und religiöse Konflikte zwischen Hindus und Muslimen.'}\n",
      "dataset size before adding new samples: 150942\n"
     ]
    },
    {
     "name": "stderr",
     "output_type": "stream",
     "text": [
      "100%|██████████| 13722/13722 [00:10<00:00, 1299.12ex/s]"
     ]
    },
    {
     "name": "stdout",
     "output_type": "stream",
     "text": [
      "dataset size after adding new samples: 164664\n",
      "latest dataset sample: {'inputs': 'Das habe ich mich schon immer gefragt: Was sind die Hauptprobleme Indiens?\\n\\nIch habe Wikipedia durchsucht und das hier gefunden. Wie lautet die Antwort?\\n\\nGeschichte_Indiens\\nDie älteste bekannte Zivilisation auf dem indischen Subkontinent und eine der ältesten Hochkulturen der Welt, ist die Indus-Kultur. Ihre Geschichte reicht mindestens 5000 Jahre zurück. Seit etwa 1500 v. Chr. sollen arische Stämme von Norden eingewandert sein und die vedische Kultur hervorgebracht haben.\\nAb dem 6. Jahrhundert v. Chr. entfaltete sich der Buddhismus, der mehr als 1000 Jahre neben dem Hinduismus eine der maßgeblichen Geistesströmungen Indiens war. Im 4. Jahrhundert v. Chr. entstand das Maurya-Reich, das zum ersten Großreich Indiens aufstieg und seine größte Ausdehnung unter Kaiser Ashoka erlangte. Im 3. Jahrhundert v. Chr. blühten die Prakrit-Literatur und die tamilische Sangam-Literatur im südlichen Indien auf. Im 4. Jahrhundert n. Chr. entstand im Norden Indiens ein Großreich unter der Herrschaft der Guptas sowie im Süden das tamilische Chola-Reich.\\nArabische Eroberungszüge im 8.\\xa0Jahrhundert brachten den Islam nach Nordwestindien. Als die Araber versuchten, nach Gujarat und darüber hinaus vorzudringen, wurden sie vom indischen König Vikramaditya II der westlichen Chalukya-Dynastie besiegt. Vom 8. Jahrhundert bis zum 10. Jahrhundert herrschten die drei Dynastien Rashtrakuta, Pala und Pratihara über einen großen Teil Indiens und kämpften untereinander um die Vorherrschaft in Nordindien. Im Süden Indiens herrschten die Chola-Dynastie und die Chalukya-Dynastie vom 10. Jahrhundert bis zum 12. Jahrhundert. Der Süden Indiens wurde durch das hinduistische Vijayanagar-Reich vom 14. bis 16. Jahrhundert beherrscht. Während der Moguldynastie spielten die Einflüsse der persischen Kultur eine große Rolle. Im späten 17. Jahrhundert wurde das hinduistische Maratha-Reich gegründet, das im 18. Jahrhundert das Mogulreich überrannte und einen großen Teil Nordindiens eroberte. Im 19. Jahrhundert hatte Großbritannien die vollständige politische Kontrolle über alle indischen Territorien.\\nDer Widerstand gegen die britische Kolonialherrschaft, vor allem unter Mahatma Gandhi und Jawaharlal Nehru,...', 'targets': 'der fortdauernde Streit mit Pakistan um die Region Kaschmir, andererseits die starke Überbevölkerung, die zunehmende Umweltverschmutzung, die ausgedehnte Armut sowie ethnische und religiöse Konflikte zwischen Hindus und Muslimen.'}\n"
     ]
    },
    {
     "name": "stderr",
     "output_type": "stream",
     "text": [
      "\n"
     ]
    }
   ],
   "source": [
    "for prompt in list(dataset_template.name_to_id_mapping.keys()):\n",
    "    \n",
    "    def prompt_split(examples):\n",
    "        prompted_examples = dataset_template[prompt].apply(examples)\n",
    "        return {\"inputs\": prompted_examples[0], \"targets\": prompted_examples[1]}\n",
    "    # apply the prompt on the complete dataset\n",
    "    print(f\"dataset size before adding new samples: {len(prompted_ds)}\")\n",
    "    prompted_split = complete_ds.map(prompt_split, remove_columns=complete_ds.column_names)\n",
    "    prompted_ds = concatenate_datasets([prompted_ds, prompted_split])\n",
    "    print(f\"dataset size after adding new samples: {len(prompted_ds)}\")\n",
    "    print(f\"latest dataset sample: {prompted_ds[-1]}\")    \n",
    "\n"
   ]
  },
  {
   "cell_type": "code",
   "execution_count": 31,
   "metadata": {},
   "outputs": [],
   "source": []
  }
 ],
 "metadata": {
  "interpreter": {
   "hash": "5fcf248a74081676ead7e77f54b2c239ba2921b952f7cbcdbbe5427323165924"
  },
  "kernelspec": {
   "display_name": "Python 3.8.12 64-bit ('hf': conda)",
   "language": "python",
   "name": "python3"
  },
  "language_info": {
   "codemirror_mode": {
    "name": "ipython",
    "version": 3
   },
   "file_extension": ".py",
   "mimetype": "text/x-python",
   "name": "python",
   "nbconvert_exporter": "python",
   "pygments_lexer": "ipython3",
   "version": "3.8.12"
  },
  "orig_nbformat": 4
 },
 "nbformat": 4,
 "nbformat_minor": 2
}
